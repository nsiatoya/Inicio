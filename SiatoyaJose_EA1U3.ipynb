{
  "nbformat": 4,
  "nbformat_minor": 0,
  "metadata": {
    "colab": {
      "name": "SiatoyaJose_EA1U3.ipynb",
      "provenance": [],
      "mount_file_id": "1xXM3gIRu7H3LjhyXX0rCai9fnIej9PXZ",
      "authorship_tag": "ABX9TyO4p1gx+Qs19WXi3Va85VrV",
      "include_colab_link": true
    },
    "kernelspec": {
      "name": "python3",
      "display_name": "Python 3"
    },
    "language_info": {
      "name": "python"
    },
    "widgets": {
      "application/vnd.jupyter.widget-state+json": {
        "333e337fcd9a4ec282e5a24720f43e44": {
          "model_module": "@jupyter-widgets/controls",
          "model_name": "HBoxModel",
          "model_module_version": "1.5.0",
          "state": {
            "_view_name": "HBoxView",
            "_dom_classes": [],
            "_model_name": "HBoxModel",
            "_view_module": "@jupyter-widgets/controls",
            "_model_module_version": "1.5.0",
            "_view_count": null,
            "_view_module_version": "1.5.0",
            "box_style": "",
            "layout": "IPY_MODEL_d9ea7705a53b407bbce7f821859af50c",
            "_model_module": "@jupyter-widgets/controls",
            "children": [
              "IPY_MODEL_5826f81620a34d6cab740446823c38de",
              "IPY_MODEL_1a34c949203846bc8d864dfe76da35ec",
              "IPY_MODEL_032083c7d61549cca6b24b7b5db1ca8c"
            ]
          }
        },
        "d9ea7705a53b407bbce7f821859af50c": {
          "model_module": "@jupyter-widgets/base",
          "model_name": "LayoutModel",
          "model_module_version": "1.2.0",
          "state": {
            "_view_name": "LayoutView",
            "grid_template_rows": null,
            "right": null,
            "justify_content": null,
            "_view_module": "@jupyter-widgets/base",
            "overflow": null,
            "_model_module_version": "1.2.0",
            "_view_count": null,
            "flex_flow": "row wrap",
            "width": "100%",
            "min_width": null,
            "border": null,
            "align_items": null,
            "bottom": null,
            "_model_module": "@jupyter-widgets/base",
            "top": null,
            "grid_column": null,
            "overflow_y": null,
            "overflow_x": null,
            "grid_auto_flow": null,
            "grid_area": null,
            "grid_template_columns": null,
            "flex": null,
            "_model_name": "LayoutModel",
            "justify_items": null,
            "grid_row": null,
            "max_height": null,
            "align_content": null,
            "visibility": null,
            "align_self": null,
            "height": null,
            "min_height": null,
            "padding": null,
            "grid_auto_rows": null,
            "grid_gap": null,
            "max_width": null,
            "order": null,
            "_view_module_version": "1.2.0",
            "grid_template_areas": null,
            "object_position": null,
            "object_fit": null,
            "grid_auto_columns": null,
            "margin": null,
            "display": "inline-flex",
            "left": null
          }
        },
        "5826f81620a34d6cab740446823c38de": {
          "model_module": "@jupyter-widgets/controls",
          "model_name": "HTMLModel",
          "model_module_version": "1.5.0",
          "state": {
            "_view_name": "HTMLView",
            "style": "IPY_MODEL_747e83c92e9d4c959ad115c387b2db49",
            "_dom_classes": [],
            "description": "",
            "_model_name": "HTMLModel",
            "placeholder": "​",
            "_view_module": "@jupyter-widgets/controls",
            "_model_module_version": "1.5.0",
            "value": "Done! Use &#x27;show&#x27; commands to display/save.   ",
            "_view_count": null,
            "_view_module_version": "1.5.0",
            "description_tooltip": null,
            "_model_module": "@jupyter-widgets/controls",
            "layout": "IPY_MODEL_b162d85d1adc4b87baedeb528fea9c85"
          }
        },
        "1a34c949203846bc8d864dfe76da35ec": {
          "model_module": "@jupyter-widgets/controls",
          "model_name": "FloatProgressModel",
          "model_module_version": "1.5.0",
          "state": {
            "_view_name": "ProgressView",
            "style": "IPY_MODEL_aaefd4476f294c4eba199ed86d7501bb",
            "_dom_classes": [],
            "description": "",
            "_model_name": "FloatProgressModel",
            "bar_style": "success",
            "max": 1,
            "_view_module": "@jupyter-widgets/controls",
            "_model_module_version": "1.5.0",
            "value": 1,
            "_view_count": null,
            "_view_module_version": "1.5.0",
            "orientation": "horizontal",
            "min": 0,
            "description_tooltip": null,
            "_model_module": "@jupyter-widgets/controls",
            "layout": "IPY_MODEL_ffe7a9489c384611a596daa706c8985e"
          }
        },
        "032083c7d61549cca6b24b7b5db1ca8c": {
          "model_module": "@jupyter-widgets/controls",
          "model_name": "HTMLModel",
          "model_module_version": "1.5.0",
          "state": {
            "_view_name": "HTMLView",
            "style": "IPY_MODEL_8b0bb304ff2a45d3899078ebc845bce7",
            "_dom_classes": [],
            "description": "",
            "_model_name": "HTMLModel",
            "placeholder": "​",
            "_view_module": "@jupyter-widgets/controls",
            "_model_module_version": "1.5.0",
            "value": " [100%]   00:00 -&gt; (00:00 left)",
            "_view_count": null,
            "_view_module_version": "1.5.0",
            "description_tooltip": null,
            "_model_module": "@jupyter-widgets/controls",
            "layout": "IPY_MODEL_b1c48765e75144408cf2fe72e7b53743"
          }
        },
        "747e83c92e9d4c959ad115c387b2db49": {
          "model_module": "@jupyter-widgets/controls",
          "model_name": "DescriptionStyleModel",
          "model_module_version": "1.5.0",
          "state": {
            "_view_name": "StyleView",
            "_model_name": "DescriptionStyleModel",
            "description_width": "",
            "_view_module": "@jupyter-widgets/base",
            "_model_module_version": "1.5.0",
            "_view_count": null,
            "_view_module_version": "1.2.0",
            "_model_module": "@jupyter-widgets/controls"
          }
        },
        "b162d85d1adc4b87baedeb528fea9c85": {
          "model_module": "@jupyter-widgets/base",
          "model_name": "LayoutModel",
          "model_module_version": "1.2.0",
          "state": {
            "_view_name": "LayoutView",
            "grid_template_rows": null,
            "right": null,
            "justify_content": null,
            "_view_module": "@jupyter-widgets/base",
            "overflow": null,
            "_model_module_version": "1.2.0",
            "_view_count": null,
            "flex_flow": null,
            "width": null,
            "min_width": null,
            "border": null,
            "align_items": null,
            "bottom": null,
            "_model_module": "@jupyter-widgets/base",
            "top": null,
            "grid_column": null,
            "overflow_y": null,
            "overflow_x": null,
            "grid_auto_flow": null,
            "grid_area": null,
            "grid_template_columns": null,
            "flex": null,
            "_model_name": "LayoutModel",
            "justify_items": null,
            "grid_row": null,
            "max_height": null,
            "align_content": null,
            "visibility": null,
            "align_self": null,
            "height": null,
            "min_height": null,
            "padding": null,
            "grid_auto_rows": null,
            "grid_gap": null,
            "max_width": null,
            "order": null,
            "_view_module_version": "1.2.0",
            "grid_template_areas": null,
            "object_position": null,
            "object_fit": null,
            "grid_auto_columns": null,
            "margin": null,
            "display": null,
            "left": null
          }
        },
        "aaefd4476f294c4eba199ed86d7501bb": {
          "model_module": "@jupyter-widgets/controls",
          "model_name": "ProgressStyleModel",
          "model_module_version": "1.5.0",
          "state": {
            "_view_name": "StyleView",
            "_model_name": "ProgressStyleModel",
            "description_width": "",
            "_view_module": "@jupyter-widgets/base",
            "_model_module_version": "1.5.0",
            "_view_count": null,
            "_view_module_version": "1.2.0",
            "bar_color": null,
            "_model_module": "@jupyter-widgets/controls"
          }
        },
        "ffe7a9489c384611a596daa706c8985e": {
          "model_module": "@jupyter-widgets/base",
          "model_name": "LayoutModel",
          "model_module_version": "1.2.0",
          "state": {
            "_view_name": "LayoutView",
            "grid_template_rows": null,
            "right": null,
            "justify_content": null,
            "_view_module": "@jupyter-widgets/base",
            "overflow": null,
            "_model_module_version": "1.2.0",
            "_view_count": null,
            "flex_flow": null,
            "width": null,
            "min_width": null,
            "border": null,
            "align_items": null,
            "bottom": null,
            "_model_module": "@jupyter-widgets/base",
            "top": null,
            "grid_column": null,
            "overflow_y": null,
            "overflow_x": null,
            "grid_auto_flow": null,
            "grid_area": null,
            "grid_template_columns": null,
            "flex": "2",
            "_model_name": "LayoutModel",
            "justify_items": null,
            "grid_row": null,
            "max_height": null,
            "align_content": null,
            "visibility": null,
            "align_self": null,
            "height": null,
            "min_height": null,
            "padding": null,
            "grid_auto_rows": null,
            "grid_gap": null,
            "max_width": null,
            "order": null,
            "_view_module_version": "1.2.0",
            "grid_template_areas": null,
            "object_position": null,
            "object_fit": null,
            "grid_auto_columns": null,
            "margin": null,
            "display": null,
            "left": null
          }
        },
        "8b0bb304ff2a45d3899078ebc845bce7": {
          "model_module": "@jupyter-widgets/controls",
          "model_name": "DescriptionStyleModel",
          "model_module_version": "1.5.0",
          "state": {
            "_view_name": "StyleView",
            "_model_name": "DescriptionStyleModel",
            "description_width": "",
            "_view_module": "@jupyter-widgets/base",
            "_model_module_version": "1.5.0",
            "_view_count": null,
            "_view_module_version": "1.2.0",
            "_model_module": "@jupyter-widgets/controls"
          }
        },
        "b1c48765e75144408cf2fe72e7b53743": {
          "model_module": "@jupyter-widgets/base",
          "model_name": "LayoutModel",
          "model_module_version": "1.2.0",
          "state": {
            "_view_name": "LayoutView",
            "grid_template_rows": null,
            "right": null,
            "justify_content": null,
            "_view_module": "@jupyter-widgets/base",
            "overflow": null,
            "_model_module_version": "1.2.0",
            "_view_count": null,
            "flex_flow": null,
            "width": null,
            "min_width": null,
            "border": null,
            "align_items": null,
            "bottom": null,
            "_model_module": "@jupyter-widgets/base",
            "top": null,
            "grid_column": null,
            "overflow_y": null,
            "overflow_x": null,
            "grid_auto_flow": null,
            "grid_area": null,
            "grid_template_columns": null,
            "flex": null,
            "_model_name": "LayoutModel",
            "justify_items": null,
            "grid_row": null,
            "max_height": null,
            "align_content": null,
            "visibility": null,
            "align_self": null,
            "height": null,
            "min_height": null,
            "padding": null,
            "grid_auto_rows": null,
            "grid_gap": null,
            "max_width": null,
            "order": null,
            "_view_module_version": "1.2.0",
            "grid_template_areas": null,
            "object_position": null,
            "object_fit": null,
            "grid_auto_columns": null,
            "margin": null,
            "display": null,
            "left": null
          }
        }
      }
    }
  },
  "cells": [
    {
      "cell_type": "markdown",
      "metadata": {
        "id": "view-in-github",
        "colab_type": "text"
      },
      "source": [
        "<a href=\"https://colab.research.google.com/github/nsiatoya/Inicio/blob/main/SiatoyaJose_EA1U3.ipynb\" target=\"_parent\"><img src=\"https://colab.research.google.com/assets/colab-badge.svg\" alt=\"Open In Colab\"/></a>"
      ]
    },
    {
      "cell_type": "markdown",
      "metadata": {
        "id": "IqHoA1WJYzpA"
      },
      "source": [
        "José Nelson Siatoya Villalobos\n",
        "Unidad 3. Evidencia de aprendizaje 1. Pronóstico de tratamiento para paciente con cáncer de mama\n",
        "03-dic-2021\n",
        "Asesor: Julián Dario Giraldo"
      ]
    },
    {
      "cell_type": "code",
      "metadata": {
        "colab": {
          "base_uri": "https://localhost:8080/"
        },
        "id": "BffJPfK2ebQA",
        "outputId": "dc7472c0-9632-41ab-ff4b-0eefeb01655a"
      },
      "source": [
        "pip install sweetviz"
      ],
      "execution_count": null,
      "outputs": [
        {
          "output_type": "stream",
          "name": "stdout",
          "text": [
            "Requirement already satisfied: sweetviz in /usr/local/lib/python3.7/dist-packages (2.1.3)\n",
            "Requirement already satisfied: matplotlib>=3.1.3 in /usr/local/lib/python3.7/dist-packages (from sweetviz) (3.2.2)\n",
            "Requirement already satisfied: importlib-resources>=1.2.0 in /usr/local/lib/python3.7/dist-packages (from sweetviz) (5.4.0)\n",
            "Requirement already satisfied: pandas!=1.0.0,!=1.0.1,!=1.0.2,>=0.25.3 in /usr/local/lib/python3.7/dist-packages (from sweetviz) (1.1.5)\n",
            "Requirement already satisfied: scipy>=1.3.2 in /usr/local/lib/python3.7/dist-packages (from sweetviz) (1.4.1)\n",
            "Requirement already satisfied: numpy>=1.16.0 in /usr/local/lib/python3.7/dist-packages (from sweetviz) (1.19.5)\n",
            "Requirement already satisfied: tqdm>=4.43.0 in /usr/local/lib/python3.7/dist-packages (from sweetviz) (4.62.3)\n",
            "Requirement already satisfied: jinja2>=2.11.1 in /usr/local/lib/python3.7/dist-packages (from sweetviz) (2.11.3)\n",
            "Requirement already satisfied: zipp>=3.1.0 in /usr/local/lib/python3.7/dist-packages (from importlib-resources>=1.2.0->sweetviz) (3.6.0)\n",
            "Requirement already satisfied: MarkupSafe>=0.23 in /usr/local/lib/python3.7/dist-packages (from jinja2>=2.11.1->sweetviz) (2.0.1)\n",
            "Requirement already satisfied: cycler>=0.10 in /usr/local/lib/python3.7/dist-packages (from matplotlib>=3.1.3->sweetviz) (0.11.0)\n",
            "Requirement already satisfied: python-dateutil>=2.1 in /usr/local/lib/python3.7/dist-packages (from matplotlib>=3.1.3->sweetviz) (2.8.2)\n",
            "Requirement already satisfied: kiwisolver>=1.0.1 in /usr/local/lib/python3.7/dist-packages (from matplotlib>=3.1.3->sweetviz) (1.3.2)\n",
            "Requirement already satisfied: pyparsing!=2.0.4,!=2.1.2,!=2.1.6,>=2.0.1 in /usr/local/lib/python3.7/dist-packages (from matplotlib>=3.1.3->sweetviz) (3.0.6)\n",
            "Requirement already satisfied: pytz>=2017.2 in /usr/local/lib/python3.7/dist-packages (from pandas!=1.0.0,!=1.0.1,!=1.0.2,>=0.25.3->sweetviz) (2018.9)\n",
            "Requirement already satisfied: six>=1.5 in /usr/local/lib/python3.7/dist-packages (from python-dateutil>=2.1->matplotlib>=3.1.3->sweetviz) (1.15.0)\n"
          ]
        }
      ]
    },
    {
      "cell_type": "code",
      "metadata": {
        "id": "6MU4XhY_YBk6"
      },
      "source": [
        "import pandas as pd\n",
        "import numpy as np\n",
        "import sweetviz as sw\n",
        "import matplotlib.pyplot as plt\n",
        "from sklearn import datasets\n",
        "from sklearn.preprocessing  import OrdinalEncoder\n",
        "from sklearn.discriminant_analysis import LinearDiscriminantAnalysis\n",
        "from sklearn.model_selection import RepeatedStratifiedKFold\n",
        "from sklearn.model_selection import train_test_split\n",
        "from sklearn.model_selection import cross_val_score"
      ],
      "execution_count": null,
      "outputs": []
    },
    {
      "cell_type": "code",
      "metadata": {
        "colab": {
          "base_uri": "https://localhost:8080/",
          "height": 424
        },
        "id": "L3oFkhAvYS02",
        "outputId": "9fb39774-3b9a-40d1-fdc1-42551bcd69ff"
      },
      "source": [
        "df = pd.read_excel(\"/breast_cancer.xlsx\")\n",
        "df"
      ],
      "execution_count": null,
      "outputs": [
        {
          "output_type": "execute_result",
          "data": {
            "text/html": [
              "<div>\n",
              "<style scoped>\n",
              "    .dataframe tbody tr th:only-of-type {\n",
              "        vertical-align: middle;\n",
              "    }\n",
              "\n",
              "    .dataframe tbody tr th {\n",
              "        vertical-align: top;\n",
              "    }\n",
              "\n",
              "    .dataframe thead th {\n",
              "        text-align: right;\n",
              "    }\n",
              "</style>\n",
              "<table border=\"1\" class=\"dataframe\">\n",
              "  <thead>\n",
              "    <tr style=\"text-align: right;\">\n",
              "      <th></th>\n",
              "      <th>Class</th>\n",
              "      <th>age</th>\n",
              "      <th>menopause</th>\n",
              "      <th>tumor_size</th>\n",
              "      <th>inv_node</th>\n",
              "      <th>node_caps</th>\n",
              "      <th>deg_malig</th>\n",
              "      <th>breast</th>\n",
              "      <th>breast_quad</th>\n",
              "      <th>irradiat</th>\n",
              "    </tr>\n",
              "  </thead>\n",
              "  <tbody>\n",
              "    <tr>\n",
              "      <th>0</th>\n",
              "      <td>no-recurrence-events</td>\n",
              "      <td>30-39</td>\n",
              "      <td>premeno</td>\n",
              "      <td>30-34</td>\n",
              "      <td>0-2</td>\n",
              "      <td>no</td>\n",
              "      <td>3</td>\n",
              "      <td>left</td>\n",
              "      <td>left_low</td>\n",
              "      <td>no</td>\n",
              "    </tr>\n",
              "    <tr>\n",
              "      <th>1</th>\n",
              "      <td>no-recurrence-events</td>\n",
              "      <td>40-49</td>\n",
              "      <td>premeno</td>\n",
              "      <td>20-24</td>\n",
              "      <td>0-2</td>\n",
              "      <td>no</td>\n",
              "      <td>2</td>\n",
              "      <td>right</td>\n",
              "      <td>right_up</td>\n",
              "      <td>no</td>\n",
              "    </tr>\n",
              "    <tr>\n",
              "      <th>2</th>\n",
              "      <td>no-recurrence-events</td>\n",
              "      <td>40-49</td>\n",
              "      <td>premeno</td>\n",
              "      <td>20-24</td>\n",
              "      <td>0-2</td>\n",
              "      <td>no</td>\n",
              "      <td>2</td>\n",
              "      <td>left</td>\n",
              "      <td>left_low</td>\n",
              "      <td>no</td>\n",
              "    </tr>\n",
              "    <tr>\n",
              "      <th>3</th>\n",
              "      <td>no-recurrence-events</td>\n",
              "      <td>60-69</td>\n",
              "      <td>ge40</td>\n",
              "      <td>15-19</td>\n",
              "      <td>0-2</td>\n",
              "      <td>no</td>\n",
              "      <td>2</td>\n",
              "      <td>right</td>\n",
              "      <td>left_up</td>\n",
              "      <td>no</td>\n",
              "    </tr>\n",
              "    <tr>\n",
              "      <th>4</th>\n",
              "      <td>no-recurrence-events</td>\n",
              "      <td>40-49</td>\n",
              "      <td>premeno</td>\n",
              "      <td>0-4</td>\n",
              "      <td>0-2</td>\n",
              "      <td>no</td>\n",
              "      <td>2</td>\n",
              "      <td>right</td>\n",
              "      <td>right_low</td>\n",
              "      <td>no</td>\n",
              "    </tr>\n",
              "    <tr>\n",
              "      <th>...</th>\n",
              "      <td>...</td>\n",
              "      <td>...</td>\n",
              "      <td>...</td>\n",
              "      <td>...</td>\n",
              "      <td>...</td>\n",
              "      <td>...</td>\n",
              "      <td>...</td>\n",
              "      <td>...</td>\n",
              "      <td>...</td>\n",
              "      <td>...</td>\n",
              "    </tr>\n",
              "    <tr>\n",
              "      <th>281</th>\n",
              "      <td>recurrence-events</td>\n",
              "      <td>30-39</td>\n",
              "      <td>premeno</td>\n",
              "      <td>30-34</td>\n",
              "      <td>0-2</td>\n",
              "      <td>no</td>\n",
              "      <td>2</td>\n",
              "      <td>left</td>\n",
              "      <td>left_up</td>\n",
              "      <td>no</td>\n",
              "    </tr>\n",
              "    <tr>\n",
              "      <th>282</th>\n",
              "      <td>recurrence-events</td>\n",
              "      <td>30-39</td>\n",
              "      <td>premeno</td>\n",
              "      <td>20-24</td>\n",
              "      <td>0-2</td>\n",
              "      <td>no</td>\n",
              "      <td>3</td>\n",
              "      <td>left</td>\n",
              "      <td>left_up</td>\n",
              "      <td>yes</td>\n",
              "    </tr>\n",
              "    <tr>\n",
              "      <th>283</th>\n",
              "      <td>recurrence-events</td>\n",
              "      <td>60-69</td>\n",
              "      <td>ge40</td>\n",
              "      <td>20-24</td>\n",
              "      <td>0-2</td>\n",
              "      <td>no</td>\n",
              "      <td>1</td>\n",
              "      <td>right</td>\n",
              "      <td>left_up</td>\n",
              "      <td>no</td>\n",
              "    </tr>\n",
              "    <tr>\n",
              "      <th>284</th>\n",
              "      <td>recurrence-events</td>\n",
              "      <td>40-49</td>\n",
              "      <td>ge40</td>\n",
              "      <td>30-34</td>\n",
              "      <td>3-5</td>\n",
              "      <td>no</td>\n",
              "      <td>3</td>\n",
              "      <td>left</td>\n",
              "      <td>left_low</td>\n",
              "      <td>no</td>\n",
              "    </tr>\n",
              "    <tr>\n",
              "      <th>285</th>\n",
              "      <td>recurrence-events</td>\n",
              "      <td>50-59</td>\n",
              "      <td>ge40</td>\n",
              "      <td>30-34</td>\n",
              "      <td>3-5</td>\n",
              "      <td>no</td>\n",
              "      <td>3</td>\n",
              "      <td>left</td>\n",
              "      <td>left_low</td>\n",
              "      <td>no</td>\n",
              "    </tr>\n",
              "  </tbody>\n",
              "</table>\n",
              "<p>286 rows × 10 columns</p>\n",
              "</div>"
            ],
            "text/plain": [
              "                    Class    age menopause  ... breast breast_quad irradiat\n",
              "0    no-recurrence-events  30-39   premeno  ...   left    left_low       no\n",
              "1    no-recurrence-events  40-49   premeno  ...  right    right_up       no\n",
              "2    no-recurrence-events  40-49   premeno  ...   left    left_low       no\n",
              "3    no-recurrence-events  60-69      ge40  ...  right     left_up       no\n",
              "4    no-recurrence-events  40-49   premeno  ...  right   right_low       no\n",
              "..                    ...    ...       ...  ...    ...         ...      ...\n",
              "281     recurrence-events  30-39   premeno  ...   left     left_up       no\n",
              "282     recurrence-events  30-39   premeno  ...   left     left_up      yes\n",
              "283     recurrence-events  60-69      ge40  ...  right     left_up       no\n",
              "284     recurrence-events  40-49      ge40  ...   left    left_low       no\n",
              "285     recurrence-events  50-59      ge40  ...   left    left_low       no\n",
              "\n",
              "[286 rows x 10 columns]"
            ]
          },
          "metadata": {},
          "execution_count": 92
        }
      ]
    },
    {
      "cell_type": "code",
      "metadata": {
        "colab": {
          "base_uri": "https://localhost:8080/"
        },
        "id": "yUQUCYE9CFhL",
        "outputId": "295fcc89-4dc4-439c-d666-70ad7c1e0c07"
      },
      "source": [
        "df.age.unique()\n",
        "df.menopause.unique()\n",
        "df.tumor_size.unique()\n",
        "df.Class.unique()\n",
        "df.inv_node.unique()\n",
        "df.breast_quad.unique()"
      ],
      "execution_count": null,
      "outputs": [
        {
          "output_type": "execute_result",
          "data": {
            "text/plain": [
              "array(['left_low', 'right_up', 'left_up', 'right_low', 'central', '?'],\n",
              "      dtype=object)"
            ]
          },
          "metadata": {},
          "execution_count": 93
        }
      ]
    },
    {
      "cell_type": "markdown",
      "metadata": {
        "id": "I9RE8q-IaIqy"
      },
      "source": [
        "1.Realiza un análisis a partir de los 286 datos registrados, que permita modelar su comportamiento a partir de la variable Irradiat, el cual registra si una paciente ha sido sometida a irradiación como parte del tratamiento."
      ]
    },
    {
      "cell_type": "code",
      "metadata": {
        "colab": {
          "base_uri": "https://localhost:8080/",
          "height": 87,
          "referenced_widgets": [
            "333e337fcd9a4ec282e5a24720f43e44",
            "d9ea7705a53b407bbce7f821859af50c",
            "5826f81620a34d6cab740446823c38de",
            "1a34c949203846bc8d864dfe76da35ec",
            "032083c7d61549cca6b24b7b5db1ca8c",
            "747e83c92e9d4c959ad115c387b2db49",
            "b162d85d1adc4b87baedeb528fea9c85",
            "aaefd4476f294c4eba199ed86d7501bb",
            "ffe7a9489c384611a596daa706c8985e",
            "8b0bb304ff2a45d3899078ebc845bce7",
            "b1c48765e75144408cf2fe72e7b53743"
          ]
        },
        "id": "cLryfO2zYxxS",
        "outputId": "3a3dd1fd-2ad4-4214-c356-b2bab9708a6a"
      },
      "source": [
        "carac = sw.analyze(df)      #carac es cacterización de los datos\n",
        "carac.show_html('Breast_cancer_analysis')"
      ],
      "execution_count": null,
      "outputs": [
        {
          "output_type": "display_data",
          "data": {
            "application/vnd.jupyter.widget-view+json": {
              "model_id": "333e337fcd9a4ec282e5a24720f43e44",
              "version_minor": 0,
              "version_major": 2
            },
            "text/plain": [
              "                                             |          | [  0%]   00:00 -> (? left)"
            ]
          },
          "metadata": {}
        },
        {
          "output_type": "stream",
          "name": "stdout",
          "text": [
            "Report Breast_cancer_analysis was generated! NOTEBOOK/COLAB USERS: the web browser MAY not pop up, regardless, the report IS saved in your notebook/colab files.\n"
          ]
        }
      ]
    },
    {
      "cell_type": "code",
      "metadata": {
        "id": "36t2n5QpmMeQ"
      },
      "source": [
        "df_tarea = df[['age','menopause','tumor_size','irradiat']]\n",
        "#df_tarea"
      ],
      "execution_count": null,
      "outputs": []
    },
    {
      "cell_type": "code",
      "metadata": {
        "id": "6ClDO7JQfuf7"
      },
      "source": [
        "codificador = OrdinalEncoder(categories=[['recurrence-events', 'no-recurrence-events']])  #creamos las categorías en el orden correcto\n",
        "codificador.fit(df[['Class']]) #aplicamos fit o ajuste sobre los datos codificados\n",
        "df['Code_Class'] = codificador.transform(df[['Class']])  #al dataframe le agrego una nueva columna llamada Code_Age con el código ordinal generado\n",
        "#df['Code_Class']"
      ],
      "execution_count": null,
      "outputs": []
    },
    {
      "cell_type": "code",
      "metadata": {
        "id": "sGk9Z5IsC4sb"
      },
      "source": [
        "codificador = OrdinalEncoder(categories=[['20-29','30-39',  #coge cada campo igual y lo convierte a un número 20-29 es 1.0 y asi sucesiv..\n",
        "                                          '40-49','50-59', \n",
        "                                          '60-69','70-79']])  #creamos las categorías en el orden correcto\n",
        "codificador.fit(df[['age']]) #aplicamos fit sobre los datos codificados\n",
        "df['Code_Age'] = codificador.transform(df[['age']])  #al dataframe le agrego una nueva columna llamada Code_Age con el código ordinal generado\n",
        "#df['Code_Age']"
      ],
      "execution_count": null,
      "outputs": []
    },
    {
      "cell_type": "code",
      "metadata": {
        "id": "VdvLDBZ2HRtW"
      },
      "source": [
        "codificador = OrdinalEncoder(categories=[['premeno', 'ge40', 'lt40']]) \n",
        "codificador.fit(df[['menopause']]) \n",
        "df['Code_Meno'] = codificador.transform(df[['menopause']])  "
      ],
      "execution_count": null,
      "outputs": []
    },
    {
      "cell_type": "code",
      "metadata": {
        "id": "1MC3RQ6sI-a9"
      },
      "source": [
        "codificador = OrdinalEncoder(categories=[['0-4','5-9','10-14','15-19','20-24',\n",
        "                                          '25-29','30-34','35-39','40-44','45-49','50-54']])  \n",
        "df['Code_Size'] = codificador.transform(df[['tumor_size']])  "
      ],
      "execution_count": null,
      "outputs": []
    },
    {
      "cell_type": "code",
      "metadata": {
        "id": "48aC277QbJxd"
      },
      "source": [
        "codificador = OrdinalEncoder(categories=[['0-2','3-5','6-8','9-11','12-14','15-17','24-26']])  \n",
        "codificador.fit(df[['inv_node']]) \n",
        "df['Code_Inv_Node'] = codificador.transform(df[['inv_node']])  "
      ],
      "execution_count": null,
      "outputs": []
    },
    {
      "cell_type": "code",
      "metadata": {
        "id": "gpaCzqZba1XU"
      },
      "source": [
        "codificador = OrdinalEncoder(categories=[['yes','no', '?']])  \n",
        "codificador.fit(df[['node_caps']]) \n",
        "df['Code_Node_Caps'] = codificador.transform(df[['node_caps']])  "
      ],
      "execution_count": null,
      "outputs": []
    },
    {
      "cell_type": "code",
      "metadata": {
        "id": "OpJ_CBoab75R"
      },
      "source": [
        "codificador = OrdinalEncoder(categories=[['left', 'right']])  \n",
        "codificador.fit(df[['breast']]) \n",
        "df['Code_Breast'] = codificador.transform(df[['breast']])  "
      ],
      "execution_count": null,
      "outputs": []
    },
    {
      "cell_type": "code",
      "metadata": {
        "id": "-fZ62RZKcQrl"
      },
      "source": [
        "codificador = OrdinalEncoder(categories=[['left_up','left_low','central', 'right_up','right_low', '?']])  \n",
        "codificador.fit(df[['breast_quad']]) \n",
        "df['Code_Breast_Quad'] = codificador.transform(df[['breast_quad']])  "
      ],
      "execution_count": null,
      "outputs": []
    },
    {
      "cell_type": "markdown",
      "metadata": {
        "id": "iw4MyFljpzqv"
      },
      "source": [
        "La columna deg_malig no requiere codificación porque es la única numérica. Tiene valores 1,2 o 3."
      ]
    },
    {
      "cell_type": "code",
      "metadata": {
        "colab": {
          "base_uri": "https://localhost:8080/"
        },
        "id": "FU0-4ePxKSKR",
        "outputId": "a60b690a-0024-4821-a2e3-ee2bb755a980"
      },
      "source": [
        "#ahora vamos a definir variables de prediccion y variables de respuesta\n",
        "x = df[['Code_Age','Code_Meno','Code_Size']]\n",
        "y = df['irradiat']\n",
        "#ajustamos el modelo LDA\n",
        "model = LinearDiscriminantAnalysis()\n",
        "model.fit(x,y)"
      ],
      "execution_count": null,
      "outputs": [
        {
          "output_type": "execute_result",
          "data": {
            "text/plain": [
              "LinearDiscriminantAnalysis()"
            ]
          },
          "metadata": {},
          "execution_count": 108
        }
      ]
    },
    {
      "cell_type": "code",
      "metadata": {
        "colab": {
          "base_uri": "https://localhost:8080/"
        },
        "id": "Yo9HbAq5NB0U",
        "outputId": "77516e96-35c9-4cb6-f125-cc6de3dbdeb3"
      },
      "source": [
        "#Definimos método de evaluación del modelo\n",
        "cv = RepeatedStratifiedKFold(n_splits =10, n_repeats=3,random_state=1)\n",
        "#n_splits me dice cuantas veces voy a segmentar los datos\n",
        "#n_repeats me dice cuantas veces voy a hacer la iteración\n",
        "#random_state me dice el estado de aleatoriedad\n",
        "#evaluamos el modelo\n",
        "scores = cross_val_score(model,x, y, scoring= 'accuracy',cv = cv, n_jobs = -1)\n",
        "\n",
        "print(np.mean(scores)) #calculo cual es la media de los puntajes obtenidos"
      ],
      "execution_count": null,
      "outputs": [
        {
          "output_type": "stream",
          "name": "stdout",
          "text": [
            "0.7588669950738913\n"
          ]
        }
      ]
    },
    {
      "cell_type": "markdown",
      "metadata": {
        "id": "aQmZEi2sT4nn"
      },
      "source": [
        "2.Pronostica cuál es la probabilidad de que una mujer de menos de 25 años, categorizada según la etapa menstrual (Menopause) en el grupo de menos de 40 años, y a quien se le ha identificado un tumor de 22 mm (establecer en qué rango se encuentra de la variable Tumo_Size), reciba o no irradiación. 25 años = 0; Menopausia <40=1; tumor de 22mm = 2 "
      ]
    },
    {
      "cell_type": "code",
      "metadata": {
        "colab": {
          "base_uri": "https://localhost:8080/"
        },
        "id": "fUWAGZgtTTZH",
        "outputId": "c5c3b99b-5849-44f6-f0db-3fcf618292f8"
      },
      "source": [
        "#ahora defino una nueva observación\n",
        "new = [0,1,2]\n",
        "model.predict([new])"
      ],
      "execution_count": null,
      "outputs": [
        {
          "output_type": "stream",
          "name": "stderr",
          "text": [
            "/usr/local/lib/python3.7/dist-packages/sklearn/base.py:446: UserWarning: X does not have valid feature names, but LinearDiscriminantAnalysis was fitted with feature names\n",
            "  \"X does not have valid feature names, but\"\n"
          ]
        },
        {
          "output_type": "execute_result",
          "data": {
            "text/plain": [
              "array(['no'], dtype='<U3')"
            ]
          },
          "metadata": {},
          "execution_count": 110
        }
      ]
    },
    {
      "cell_type": "markdown",
      "metadata": {
        "id": "fsFA0BgdUxpL"
      },
      "source": [
        "El resultado para new =[0,1,2] es que 'no' se aplica irradiación a esta persona.\n",
        "A mi no me salió la categoría 40-49 en la columna tumor_size por lo cual el calculo de la media de mis puntales es diferente a la del profe. "
      ]
    },
    {
      "cell_type": "markdown",
      "metadata": {
        "id": "8CYl7amvk0EZ"
      },
      "source": [
        "3.Ajusta el modelo utilizando, además de la variable de irradiación, las relacionadas con los datos provistos para la nueva paciente."
      ]
    },
    {
      "cell_type": "code",
      "metadata": {
        "colab": {
          "base_uri": "https://localhost:8080/"
        },
        "id": "JGSQ1LwWlNPW",
        "outputId": "f23331ea-364d-4b2c-c9fc-671c7d7cf104"
      },
      "source": [
        "#ahora voy a definir variables de prediccion y variables de respuesta usando todas las columnas de dataframe\n",
        "x = df[['Code_Class','Code_Age','Code_Meno','Code_Size','Code_Inv_Node','Code_Node_Caps','deg_malig','Code_Breast','Code_Breast_Quad']]\n",
        "y = df['irradiat']\n",
        "#ajustamos el modelo LDA\n",
        "model = LinearDiscriminantAnalysis()\n",
        "model.fit(x,y)"
      ],
      "execution_count": null,
      "outputs": [
        {
          "output_type": "execute_result",
          "data": {
            "text/plain": [
              "LinearDiscriminantAnalysis()"
            ]
          },
          "metadata": {},
          "execution_count": 111
        }
      ]
    },
    {
      "cell_type": "code",
      "metadata": {
        "colab": {
          "base_uri": "https://localhost:8080/"
        },
        "id": "DJhemsGYmP06",
        "outputId": "f8e24392-54a9-4e21-e544-8a7bcfe18dda"
      },
      "source": [
        "#Definimos método de evaluación del modelo\n",
        "cv = RepeatedStratifiedKFold(n_splits =10, n_repeats=3,random_state=1)\n",
        "scores = cross_val_score(model,x, y, scoring= 'accuracy',cv = cv, n_jobs = -1)\n",
        "print(np.mean(scores)) #calculo cual es la media de los puntajes obtenidos"
      ],
      "execution_count": null,
      "outputs": [
        {
          "output_type": "stream",
          "name": "stdout",
          "text": [
            "0.7645320197044339\n"
          ]
        }
      ]
    },
    {
      "cell_type": "markdown",
      "metadata": {
        "id": "Fo-AGgOVq7oG"
      },
      "source": [
        "La media de los puntajes me da 0.7645320197044339\n",
        "Construí la tabla siguiente para ver el ordinal de cada categoría:"
      ]
    },
    {
      "cell_type": "markdown",
      "metadata": {
        "id": "yvhbzdEjmfJo"
      },
      "source": [
        "![image.png](data:image/png;base64,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)"
      ]
    },
    {
      "cell_type": "markdown",
      "metadata": {
        "id": "79FNbH0Lot0t"
      },
      "source": [
        "Voy a usar los datos de la fila 31 y ver si la predección se ajusta: Mujer requiere irradiación con: edad=62 años, ge40, tumor de 31mm, inv_nde =2, node_cap= no, malignidad de 2, ubicado en la parte baja del seno izquierdo"
      ]
    },
    {
      "cell_type": "code",
      "metadata": {
        "colab": {
          "base_uri": "https://localhost:8080/"
        },
        "id": "Vz1UW77HmZRw",
        "outputId": "61292aae-e81b-4df2-cf4d-17811b25d075"
      },
      "source": [
        "#ahora defino una nueva observación con las 9 variables de predicción y la misma variable objetivo 'irradiat'\n",
        "#x = df[['Code_Class','Code_Age','Code_Meno','Code_Size','Code_Inv_Node','Code_Node_Caps','deg_malig','Code_Breast','Code_Breast_Quad']]\n",
        "new = [0,4,1,6,0,1,2,0,1]\n",
        "model.predict([new])"
      ],
      "execution_count": null,
      "outputs": [
        {
          "output_type": "stream",
          "name": "stderr",
          "text": [
            "/usr/local/lib/python3.7/dist-packages/sklearn/base.py:446: UserWarning: X does not have valid feature names, but LinearDiscriminantAnalysis was fitted with feature names\n",
            "  \"X does not have valid feature names, but\"\n"
          ]
        },
        {
          "output_type": "execute_result",
          "data": {
            "text/plain": [
              "array(['no'], dtype='<U3')"
            ]
          },
          "metadata": {},
          "execution_count": 116
        }
      ]
    },
    {
      "cell_type": "markdown",
      "metadata": {
        "id": "yaO_x4BXr2kp"
      },
      "source": [
        "El resultado es que NO se irradia. y concide con la desición en los datos iniciales.  \n",
        "\n",
        "/usr/local/lib/python3.7/dist-packages/sklearn/base.py:446: UserWarning: X does not have valid feature names, but LinearDiscriminantAnalysis was fitted with feature names\n",
        "  \"X does not have valid feature names, but\"\n",
        "array(['no'], dtype='<U3')"
      ]
    }
  ]
}